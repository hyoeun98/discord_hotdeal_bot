{
 "cells": [
  {
   "cell_type": "code",
   "execution_count": 3,
   "metadata": {},
   "outputs": [],
   "source": [
    "from selenium import webdriver\n",
    "from webdriver_manager.chrome import ChromeDriverManager\n",
    "from selenium.webdriver import Keys, ActionChains\n",
    "from selenium.webdriver.common.by import By\n",
    "from selenium.webdriver.chrome.service import Service\n",
    "from bs4 import BeautifulSoup as bs\n",
    "import requests\n",
    "import re\n",
    "import random\n",
    "import time\n",
    "\n",
    "FM_KOREA = \"https://www.fmkorea.com/hotdeal\"\n",
    "ARCA_LIVE = \"https://arca.live/b/hotdeal\"\n",
    "QUASAR_ZONE = \"https://quasarzone.com/bbs/qb_saleinfo\"\n",
    "RULI_WEB = \"https://bbs.ruliweb.com/market/board/1020\"\n",
    "PPOM_PPU = \"https://www.ppomppu.co.kr/zboard/zboard.php?id=ppomppu\"\n",
    "\n",
    "MAX_SLEEP_TIME = 5"
   ]
  },
  {
   "cell_type": "code",
   "execution_count": 6,
   "metadata": {},
   "outputs": [],
   "source": [
    "def item_name_normalize(item_name):\n",
    "    normalized_name = re.sub(\"\\[\\d+\\]\", \"\", item_name).strip()\n",
    "    return normalized_name"
   ]
  },
  {
   "cell_type": "code",
   "execution_count": 66,
   "metadata": {},
   "outputs": [
    {
     "name": "stdout",
     "output_type": "stream",
     "text": [
      "<re.Match object; span=(0, 5), match='[펀키스]'>\n",
      "<re.Match object; span=(0, 4), match='[펀샵]'>\n",
      "<re.Match object; span=(0, 5), match='[G마켓]'>\n",
      "<re.Match object; span=(0, 4), match='[쿠팡]'>\n",
      "<re.Match object; span=(0, 5), match='[네이버]'>\n",
      "<re.Match object; span=(0, 7), match='[한국닌텐도]'>\n",
      "<re.Match object; span=(0, 4), match='[예판]'>\n",
      "<re.Match object; span=(0, 7), match='[한국PSN]'>\n",
      "<re.Match object; span=(0, 4), match='[티몬]'>\n",
      "<re.Match object; span=(0, 6), match='[T멤버십]'>\n",
      "<re.Match object; span=(0, 7), match='[네이버페이]'>\n",
      "<re.Match object; span=(0, 7), match='[네이버페이]'>\n",
      "<re.Match object; span=(0, 4), match='[쿠팡]'>\n",
      "<re.Match object; span=(0, 4), match='[티몬]'>\n",
      "<re.Match object; span=(0, 4), match='[신한]'>\n",
      "<re.Match object; span=(0, 4), match='[알리]'>\n",
      "<re.Match object; span=(0, 5), match='[네이버]'>\n",
      "<re.Match object; span=(0, 6), match='[홈플러스]'>\n",
      "<re.Match object; span=(0, 5), match='[G마켓]'>\n",
      "<re.Match object; span=(0, 5), match='[네이버]'>\n",
      "<re.Match object; span=(0, 4), match='[다다]'>\n",
      "<re.Match object; span=(0, 5), match='[G마켓]'>\n",
      "<re.Match object; span=(0, 7), match='[맥도날드앱]'>\n",
      "<re.Match object; span=(0, 6), match='[예스24]'>\n",
      "<re.Match object; span=(0, 5), match='[네이버]'>\n",
      "<re.Match object; span=(0, 6), match='[반다이몰]'>\n",
      "<re.Match object; span=(0, 6), match='[맘스터치]'>\n",
      "<re.Match object; span=(0, 5), match='[G마켓]'>\n"
     ]
    }
   ],
   "source": [
    "# def ruli_wub_crawling():\n",
    "service = Service(executable_path=ChromeDriverManager().install())\n",
    "driver = webdriver.Chrome(service=service)\n",
    "driver.implicitly_wait(10)\n",
    "driver.get(RULI_WEB)\n",
    "\n",
    "item_names = []\n",
    "item_links = []\n",
    "shopping_mall_links = []\n",
    "shopping_malls = []\n",
    "prices = []\n",
    "deliveries = []\n",
    "contents = []\n",
    "comments = []\n",
    "\n",
    "for i in range(8, 36):#board_list > div > div.board_main.theme_default.theme_white > table > tbody > tr:nth-child(23) > td.subject > div > a.deco\n",
    "    item = driver.find_element(By.CSS_SELECTOR, f\"#board_list > div > div.board_main.theme_default.theme_white > table > tbody > tr:nth-child({i}) > td.subject > div > a.deco\")\n",
    "    item_links.append(item.get_attribute(\"href\").rstrip(\"?\"))\n",
    "    shopping_mall = re.search(\"\\[.+\\]\", item.text)\n",
    "    shopping_malls.append(shopping_mall[1:-1])\n",
    "    \n",
    "    # for i in item_links:\n",
    "    #     driver.get(i)\n",
    "    #     shopping_mall_link = driver.find_element(By.CSS_SELECTOR, \"#board_read > div > div.board_main > div.board_main_view > div.source_url > a\")\n",
    "    #     content = driver.find_element(By.TAG_NAME, \"article\")\n",
    "    #     shopping_mall_links.append(shopping_mall_link.text)\n",
    "    #     shopping_malls.append(shopping_mall.text)\n",
    "    #     contents.append(content.text)\n",
    "    #     comments.append(list(map(lambda x: x.text, comment)))\n",
    "    \n",
    "        \n",
    "    "
   ]
  },
  {
   "cell_type": "code",
   "execution_count": 65,
   "metadata": {},
   "outputs": [
    {
     "data": {
      "text/plain": [
       "['[펀키스]aula 독거미 키보드 F99 한국정발판(69000원)',\n",
       " '[펀샵] 최강경찰 미니특공대 스톰체이서&메가캅 / 36,900원',\n",
       " '[G마켓] 라이젠5 7500F RTX4070 SUPER / 1,599,5...',\n",
       " '[쿠팡]LG 27GP83B게이밍모니터(354,070원/농협,BC카드/쿠팡...',\n",
       " '[네이버] 삼성스마트모니터 M5 역대가(27일 오늘 오후2~3시)',\n",
       " '[한국닌텐도] 3/27일자 세일',\n",
       " '[예판] 봇치 더 록! 스페셜 굿즈 세트',\n",
       " '[한국PSN] 봄 세일 4/24 까지',\n",
       " '[티몬] 애플워치 밴드스트랩 / 1,720원 (무료)',\n",
       " '[T멤버십] T데이, 자담치킨 6천원,피자헛 포장 50% 할인 (3/27...',\n",
       " '[네이버페이] 일일적립, 클릭 18원',\n",
       " '[네이버페이] 클릭 적립 40원',\n",
       " '[쿠팡] 흙대파 1kg / 로켓프레시 2,320원',\n",
       " '[티몬] (품절) 키노피오 엉금엉금 아미보 외 재판 재입고 / 20,00...',\n",
       " '[신한]컬쳐랜드 1만원권/9200원/무료배송',\n",
       " '[알리] 7800x3d (306,446)',\n",
       " '[네이버] PS5 각종 소프트 할인 (어쌔신 미라지, 렘넘트2, P의 거...',\n",
       " '[홈플러스] 50%할인 코카콜라 제로, 제로레몬 각1570원',\n",
       " '[G마켓] 필립스 SkinIQ S9980/54 (319,000원 / 무배...',\n",
       " '[네이버] PS5 페르소나5 더 로열 (44,800원)',\n",
       " '[다다] 슬레이더 스파이어 보드게임 콜렉터스 에디션 판매',\n",
       " '[G마켓] 아콘 REAL GX 유/무선 기계식키보드 (58,250원/무료...',\n",
       " '[맥도날드앱] 슈슈버거 2,700원 (3/26)',\n",
       " '[예스24] 크로우 4K UHD 스틸북 블랙 블루 한정판 예판 / 47,...',\n",
       " '[네이버] 예판 유우카 회계의 일상 1/7 블루 아카이브 / 170,10...',\n",
       " '[반다이몰] 프리미엄 반다이 대축제 4차 상품 오픈 / 가격 다양',\n",
       " '[맘스터치] 치킨 전메뉴 2,000원 할인 (3/25~4/7)',\n",
       " '[G마켓] (품절) PS5 스텔라블레이드 USB 특전 / 79800원']"
      ]
     },
     "execution_count": 65,
     "metadata": {},
     "output_type": "execute_result"
    }
   ],
   "source": [
    "item_names"
   ]
  },
  {
   "cell_type": "code",
   "execution_count": 62,
   "metadata": {},
   "outputs": [
    {
     "data": {
      "text/plain": [
       "'스톰체이서&메가캅으로 신작 예판열렸습니다.\\n제가 예전에 올렸던 저스티스타이탄보다 가격은 훨씬 싸긴한데\\n그만큼 풍채나 간지는 좀 덜하긴하네요\\n헤드캅은 예전처럼 조그맣지않고 사이즈 커져버렸습니다.\\n\\n갠적으로는 다이아클론처럼 나중에 몸체나오거나\\n합체하는 기믹있으면 좋을거 같은데 그러면 엄청 클거같네요'"
      ]
     },
     "execution_count": 62,
     "metadata": {},
     "output_type": "execute_result"
    }
   ],
   "source": [
    "shopping_mall_link.text"
   ]
  },
  {
   "cell_type": "code",
   "execution_count": 61,
   "metadata": {},
   "outputs": [],
   "source": [
    "driver.get(item_links[1])\n",
    "content = driver.find_element(By.TAG_NAME, \"article\")\n",
    "shopping_mall = "
   ]
  },
  {
   "cell_type": "code",
   "execution_count": 44,
   "metadata": {},
   "outputs": [
    {
     "data": {
      "text/plain": [
       "['https://bbs.ruliweb.com/market/board/1020/read/84357',\n",
       " 'https://bbs.ruliweb.com/market/board/1020/read/84356',\n",
       " 'https://bbs.ruliweb.com/market/board/1020/read/84353',\n",
       " 'https://bbs.ruliweb.com/market/board/1020/read/84352',\n",
       " 'https://bbs.ruliweb.com/market/board/1020/read/84351',\n",
       " 'https://bbs.ruliweb.com/market/board/1020/read/84350',\n",
       " 'https://bbs.ruliweb.com/market/board/1020/read/84349',\n",
       " 'https://bbs.ruliweb.com/market/board/1020/read/84348',\n",
       " 'https://bbs.ruliweb.com/market/board/1020/read/84347',\n",
       " 'https://bbs.ruliweb.com/market/board/1020/read/84346',\n",
       " 'https://bbs.ruliweb.com/market/board/1020/read/84345',\n",
       " 'https://bbs.ruliweb.com/market/board/1020/read/84344',\n",
       " 'https://bbs.ruliweb.com/market/board/1020/read/84343',\n",
       " 'https://bbs.ruliweb.com/market/board/1020/read/84342',\n",
       " 'https://bbs.ruliweb.com/market/board/1020/read/84341',\n",
       " 'https://bbs.ruliweb.com/market/board/1020/read/84340',\n",
       " 'https://bbs.ruliweb.com/market/board/1020/read/84339',\n",
       " 'https://bbs.ruliweb.com/market/board/1020/read/84338',\n",
       " 'https://bbs.ruliweb.com/market/board/1020/read/84337',\n",
       " 'https://bbs.ruliweb.com/market/board/1020/read/84336',\n",
       " 'https://bbs.ruliweb.com/market/board/1020/read/84335',\n",
       " 'https://bbs.ruliweb.com/market/board/1020/read/84333',\n",
       " 'https://bbs.ruliweb.com/market/board/1020/read/84331',\n",
       " 'https://bbs.ruliweb.com/market/board/1020/read/84330',\n",
       " 'https://bbs.ruliweb.com/market/board/1020/read/84329',\n",
       " 'https://bbs.ruliweb.com/market/board/1020/read/84328',\n",
       " 'https://bbs.ruliweb.com/market/board/1020/read/84327',\n",
       " 'https://bbs.ruliweb.com/market/board/1020/read/84326']"
      ]
     },
     "execution_count": 44,
     "metadata": {},
     "output_type": "execute_result"
    }
   ],
   "source": [
    "item_links"
   ]
  },
  {
   "cell_type": "code",
   "execution_count": 35,
   "metadata": {},
   "outputs": [
    {
     "data": {
      "text/plain": [
       "''"
      ]
     },
     "execution_count": 35,
     "metadata": {},
     "output_type": "execute_result"
    }
   ],
   "source": [
    "items[0].text"
   ]
  },
  {
   "cell_type": "code",
   "execution_count": null,
   "metadata": {},
   "outputs": [],
   "source": [
    "def fm_korea_crawling():\n",
    "    service = Service(executable_path=ChromeDriverManager().install())\n",
    "    driver = webdriver.Chrome(service=service)\n",
    "    driver.implicitly_wait(10)\n",
    "    driver.get(FM_KOREA)\n",
    "    \n",
    "    item_names = []\n",
    "    item_links = []\n",
    "    shopping_mall_links = []\n",
    "    shopping_malls = []\n",
    "    prices = []\n",
    "    deliveries = []\n",
    "    contents = []\n",
    "    comments = []\n",
    "    \n",
    "    for i in range(1, 21):\n",
    "        item = driver.find_element(By.CSS_SELECTOR, f\"#bd_1196365581_0 > div > div.fm_best_widget._bd_pc > ul > li:nth-child({i}) > div > h3 > a\")\n",
    "        item_links.append(item.get_attribute(\"href\"))\n",
    "    \n",
    "    for i in item_links:\n",
    "        driver.get(i)\n",
    "        details = driver.find_elements(By.CLASS_NAME, \"xe_content\")\n",
    "        shopping_mall_link, shopping_mall, item_name, price, delivery, content, *comment = details\n",
    "        shopping_mall_links.append(shopping_mall_link.text)\n",
    "        shopping_malls.append(shopping_mall.text)\n",
    "        item_names.append(normalized_item_name(item_name))\n",
    "        prices.append(price.text)\n",
    "        deliveries.append(delivery.text)\n",
    "        contents.append(content.text)\n",
    "        comments.append(list(map(lambda x: x.text, comment)))\n",
    "    \n",
    "        \n",
    "    "
   ]
  },
  {
   "cell_type": "code",
   "execution_count": 27,
   "metadata": {},
   "outputs": [],
   "source": [
    "for i in item_links:\n",
    "    driver.get(i)\n",
    "    details = driver.find_elements(By.CLASS_NAME, \"xe_content\")\n",
    "    shopping_mall_link, shopping_mall, _, price, delivery, content, *comment = details\n",
    "    shopping_mall_links.append(shopping_mall_link.text)\n",
    "    shopping_malls.append(shopping_mall.text)\n",
    "    prices.append(price.text)\n",
    "    deliveries.append(delivery.text)\n",
    "    contents.append(content.text)\n",
    "    comments.append(list(map(lambda x: x.text, comment)))\n",
    "    \n",
    "        \n",
    "    "
   ]
  },
  {
   "cell_type": "code",
   "execution_count": 203,
   "metadata": {},
   "outputs": [
    {
     "name": "stdout",
     "output_type": "stream",
     "text": [
      "푸마 트레이닝 저지 반팔티 외 다양\n",
      "https://www.fmkorea.com/hotdeal/6854720832\n",
      "[<div class=\"xe_content\"> <a class=\"hotdeal_url\" data-document_srl=\"6854720832\" href=\"https://mw.wemakeprice.com/deal/630127824\" target=\"_blank\">https://mw.wemakeprice.com/deal/630127824</a> </div>, <div class=\"xe_content\">위메프  <span style=\"color: #005fbf;\">[포텐 터짐 우대 쇼핑몰, 제휴 링크]</span></div>, <div class=\"xe_content\">푸마 트레이닝 저지 반팔티 외 다양</div>, <div class=\"xe_content\">7,500원~</div>, <div class=\"xe_content\">무료</div>, <div class=\"document_6854720832_6641729506 xe_content\"><img alt=\"1711379870249.jpg [위메프] 푸마 트레이닝 저지 반팔티 외 다양 (7,500원~) (무료)\" data-file-srl=\"6854720837\" height=\"1445\" src=\"//image.fmkorea.com/files/attach/new3/20240326/1196365581/6641729506/6854720832/0e2f81075e1e2601c5ec99be1c6046ee.jpg\" title=\"\" width=\"756\"/><br class=\"pi__1938577590_3483273\" id=\"pi__1938577590_3483273\"/><img alt=\"1711379870208.jpg [위메프] 푸마 트레이닝 저지 반팔티 외 다양 (7,500원~) (무료)\" data-file-srl=\"6854721003\" height=\"1445\" src=\"//image.fmkorea.com/files/attach/new3/20240326/1196365581/6641729506/6854720832/89ec3637bae0a26d4e6d5bc613a2f82c.jpg\" title=\"\" width=\"756\"/><br/><img alt=\"1711379870298.jpg [위메프] 푸마 트레이닝 저지 반팔티 외 다양 (7,500원~) (무료)\" data-file-srl=\"6854721223\" height=\"1445\" src=\"//image.fmkorea.com/files/attach/new3/20240326/1196365581/6641729506/6854720832/ea6177528e3879b428ffbeafa51d908e.jpg\" title=\"\" width=\"756\"/><br/><img alt=\"1711379870165.jpg [위메프] 푸마 트레이닝 저지 반팔티 외 다양 (7,500원~) (무료)\" data-file-srl=\"6854721370\" data-original=\"//image.fmkorea.com/files/attach/new3/20240326/1196365581/6641729506/6854720832/50a8b6f102427dcc80a62553c9af36af.jpg\" height=\"1445\" src=\"//image.fmkorea.com/classes/lazy/img/transparent.gif\" title=\"\" width=\"756\"/><br/>푸마 트레이닝 저지 반팔티 쿠폰 적용시 7,500원 무배임<div class=\"pi__1938577590_3483273\" id=\"pi__1938577590_3483273\">반팔티,바지,자켓 가격 괜찮은거 많음</div> <!-- serverLog: f23 --> <!-- __LAZY__CHECKED__ --></div>, <div class=\"comment_6854742714_3662759124 xe_content\">바람막이 재질같은 츄리닝 바지는 없네 ㅠㅠ</div>, <div class=\"comment_6854742956_6290442617 xe_content\">저세상 사이즈 인게 몇개 있네<br/>116,128,140,152,164,176 이건 어케 맞춰 입어야 하는거지</div>, <div class=\"comment_6854743365_4279929924 xe_content\">대박 저 흰색상의 오늘 보풀 땔려고 가위질 하다가 구멍났는데 <br/>나왔네</div>]\n",
      "무항생제 한돈 목살 구이용 500g 2팩 농협\n",
      "https://www.fmkorea.com/hotdeal/6854702655\n",
      "[<div class=\"xe_content\"> <a class=\"hotdeal_url\" data-document_srl=\"6854702655\" href=\"https://mobile.tmon.co.kr/deals/22636653622\" target=\"_blank\">https://mobile.tmon.co.kr/deals/22636653622</a> </div>, <div class=\"xe_content\">티몬 </div>, <div class=\"xe_content\">무항생제 한돈 목살 구이용 500g 2팩 농협</div>, <div class=\"xe_content\">14,460원</div>, <div class=\"xe_content\">무료</div>, <div class=\"document_6854702655_6645304712 xe_content\"><img alt=\"Screenshot_20240326_001127.jpg [티몬] 무항생제 한돈 목살 구이용 500g 2팩 농협 (14,460원) (무료)\" data-file-srl=\"6854702669\" height=\"2050\" src=\"//image.fmkorea.com/files/attach/new3/20240326/1196365581/6645304712/6854702655/99b983892094b5c6d2fc3736e15da7d1.jpg\" title=\"\" width=\"1080\"/><br class=\"pi__1938577590_3483273\" id=\"pi__1938577590_3483273\"/><br/><div class=\"pi__1938577590_3483273\" id=\"pi__1938577590_3483273\">한돈 목살 1kg 농협카드결제시 14,460원 나옴</div><div>100g당 1,446원</div><div>무배고 목살이라 실패확률 적음</div><div>농협카드없어도 가격 ㄱㅊ</div> <!-- serverLog: f83 --> <!-- __LAZY__ --></div>, <div class=\"comment_6854706058_3540579247 xe_content\">한돈 오</div>, <div class=\"comment_6854709980_589021026 xe_content\">왜 요새 농협카드가 자주보이냐 ㅋㅋㅋ</div>]\n",
      "산과들에 10+10봉 초콜릿 건빵 초코건 총 20봉 / 에너지바 초코바 하루견과 간식\n",
      "https://www.fmkorea.com/hotdeal/6854686792\n",
      "[<div class=\"xe_content\"> <a class=\"hotdeal_url\" data-document_srl=\"6854686792\" href=\"https://www.tmon.co.kr/deal/17198388534\" target=\"_blank\">https://www.tmon.co.kr/deal/17198388534</a> </div>, <div class=\"xe_content\">티몬 </div>, <div class=\"xe_content\">산과들에 10+10봉 초콜릿 건빵 초코건 총 20봉 / 에너지바 초코바 하루견과 간식</div>, <div class=\"xe_content\">8,990원</div>, <div class=\"xe_content\">무료</div>, <div class=\"document_6854686792_4451250313 xe_content\"><img alt=\"Screenshot_20240326_000613.jpg [티몬] 산과들에 10+10봉 초콜릿 건빵 초코건 총 20봉 / 에너지바 초코바 하루견과 간식 (8,990원) (무료)\" data-file-srl=\"6854686797\" height=\"1687\" src=\"//image.fmkorea.com/files/attach/new3/20240326/1196365581/4451250313/6854686792/65f228b52b4c2eba59293c6f8ce88179.jpg\" title=\"\" width=\"904\"/><br class=\"pi__1938577590_3483273\" id=\"pi__1938577590_3483273\"/><br/> <!-- serverLog: f82 --> <!-- __LAZY__ --></div>, <div class=\"comment_6854704295_44483348 xe_content\">가격이 어떤진 모르겠지만 회사 탕비실에서 있길래 집었는데 진짜 맛있게먹음</div>, <div class=\"comment_6854713334_4451250313 xe_content\"><a class=\"findParent\" href=\"javascript:;\" onclick=\"return findComment(6854704295);\">요오시</a> 20봉 8900~9000원 핫딜 가격 입니다!</div>, <div class=\"comment_6854731024_44483348 xe_content\"><a class=\"findParent\" href=\"javascript:;\" onclick=\"return findComment(6854713334);\">행복</a> 먼저 사고 댓글달았습니다 ㅊㅊ ㅋㅋ</div>, <div class=\"comment_6854710711_3862364934 xe_content\">인간사료</div>, <div class=\"comment_6854714268_4451250313 xe_content\"><a class=\"findParent\" href=\"javascript:;\" onclick=\"return findComment(6854710711);\">Alanpato</a> 사료이긴 한데 넘 적어요 😭</div>, <div class=\"comment_6854720538_738479918 xe_content\">진짜 맛있긴 하더아</div>, <div class=\"comment_6854731743_6290442617 xe_content\">꾸준하게 올라오네</div>]\n",
      "도브 바디워시 1L 3개 외 다양 카카오페이결제\n",
      "https://www.fmkorea.com/hotdeal/6854684142\n",
      "[<div class=\"xe_content\"> <a class=\"hotdeal_url\" data-document_srl=\"6854684142\" href=\"https://ohou.se/productions/2415718/selling\" target=\"_blank\">https://ohou.se/productions/2415718/selling</a> </div>, <div class=\"xe_content\">오늘의집 </div>, <div class=\"xe_content\">도브 바디워시 1L 3개 외 다양 카카오페이결제</div>, <div class=\"xe_content\">10,485원</div>, <div class=\"xe_content\">무료</div>, <div class=\"document_6854684142_365431608 xe_content\"><div class=\"pi__1938577590_3483273\" id=\"pi__1938577590_3483273\"><img alt=\"1711379166075.jpg [오늘의집] 도브 바디워시 1L 3개 외 다양 카카오페이결제 (10,485원) (무료)\" data-file-srl=\"6854684147\" height=\"1490\" src=\"//image.fmkorea.com/files/attach/new3/20240326/1196365581/365431608/6854684142/92aaa2d56692fc4b160eb2b7d3f0285d.jpg\" title=\"\" width=\"756\"/><br class=\"pi__1938577590_3483273\" id=\"pi__1938577590_3483273\"/><img alt=\"1711379166016.jpg [오늘의집] 도브 바디워시 1L 3개 외 다양 카카오페이결제 (10,485원) (무료)\" data-file-srl=\"6854684373\" height=\"1063\" src=\"//image.fmkorea.com/files/attach/new3/20240326/1196365581/365431608/6854684142/3d6e0ecf085b5baf7921ebcb85dc00e0.jpg\" title=\"\" width=\"1080\"/><br/><br/></div><div>도브 바디워시 1L 3개 쿠폰이랑 장바구니쿠폰 받고 카카오페이로 결제하면 10,485원</div><div>개당 3,495원 가격 ㄱㅊ</div><div>사은품 도브 핸드워시있음</div><div><br/></div><div>스너글 섬유유연제도 가격 괜찮음</div><div><br/></div> <!-- serverLog: f22 --> <!-- __LAZY__ --></div>, <div class=\"comment_6854689644_4750961952 xe_content\">향 지속력 좋은 바디워시 추천해주세용,,,,</div>, <div class=\"comment_6854692793_5488033599 xe_content\">쿠폰 어서 받나요</div>, <div class=\"comment_6854697436_3211763939 xe_content\"><a class=\"findParent\" href=\"javascript:;\" onclick=\"return findComment(6854692793);\">Extra0_0</a> 스크롤 내려서 상품 자세히 보기 누르면 빨간색 쿠폰 받기</div>, <div class=\"comment_6854705682_5075894021 xe_content\">5개중에 추천해주실만한 향 있나용</div>, <div class=\"comment_6854716043_692119005 xe_content\">더내렸네...아</div>]\n",
      "깨끗한나라 순수 프리미엄 광폭 27m 30롤 2팩 + 미용티슈 70매 + 메가커피 아이스아메리카노\n",
      "https://www.fmkorea.com/hotdeal/6854678953\n",
      "[<div class=\"xe_content\"> <a class=\"hotdeal_url\" data-document_srl=\"6854678953\" href=\"http://item.gmarket.co.kr/Item?goodscode=2815362999\" target=\"_blank\">http://item.gmarket.co.kr/Item?goodscode=2815362999</a> </div>, <div class=\"xe_content\">지마켓  <span style=\"color: #005fbf;\">[포텐 터짐 우대 쇼핑몰, 제휴 링크]</span></div>, <div class=\"xe_content\">깨끗한나라 순수 프리미엄 광폭 27m 30롤 2팩 + 미용티슈 70매 + 메가커피 아이스아메리카노</div>, <div class=\"xe_content\">29,840원</div>, <div class=\"xe_content\">무료</div>, <div class=\"document_6854678953_5902788663 xe_content\"><img alt=\"[지마켓] 깨끗한나라 순수 프리미엄 광폭 27m 30롤 2팩 + 미용티슈 70매 + 메가커피 아이스아메리카노 (29,840원) (무료)\" class=\"auto_insert\" height=\"1070\" src=\"//image.fmkorea.com/files/attach/new3/20240326/1196365581/5902788663/6854678953/115a9430890ce6e535be9ad6b044b815.jpeg\" style=\"margin-bottom:2px;\" title=\"\" width=\"828\"/>\n",
      "<img alt=\"[지마켓] 깨끗한나라 순수 프리미엄 광폭 27m 30롤 2팩 + 미용티슈 70매 + 메가커피 아이스아메리카노 (29,840원) (무료)\" class=\"auto_insert\" height=\"759\" src=\"//image.fmkorea.com/files/attach/new3/20240326/1196365581/5902788663/6854678953/a7f14049a4b327e4a3fea269ab568b6a.jpeg\" style=\"margin-bottom:2px;\" title=\"\" width=\"828\"/>\n",
      "<img alt=\"[지마켓] 깨끗한나라 순수 프리미엄 광폭 27m 30롤 2팩 + 미용티슈 70매 + 메가커피 아이스아메리카노 (29,840원) (무료)\" class=\"auto_insert\" height=\"1117\" src=\"//image.fmkorea.com/files/attach/new3/20240326/1196365581/5902788663/6854678953/1d142f3280e8cb29d9839f4d96fbe321.jpeg\" style=\"margin-bottom:2px;\" title=\"\" width=\"828\"/>\n",
      "<p class=\"pi__1938577590_3483273\" id=\"pi__1938577590_3483273\">깨끗한나라 천연펄프 3겹 무향 광폭(107mm) 화장지 27미터 30롤 2팩 + 사은품 2개  29,840 원이면 가격 ㄱㅊ한듯 메가커피 아이스 아메리카노 기프티콘은 문자로 옴,<br class=\"pi__1938577590_3483273\" id=\"pi__1938577590_3483273\"/></p> <!-- serverLog: f22 --> <!-- __LAZY__ --></div>]\n",
      "한성기업 명란 톡톡 떡갈비 핫바 70g X 10개\n",
      "https://www.fmkorea.com/hotdeal/6854675408\n",
      "[<div class=\"xe_content\"> <a class=\"hotdeal_url\" data-document_srl=\"6854675408\" href=\"https://mw.wemakeprice.com/deal/630313095\" target=\"_blank\">https://mw.wemakeprice.com/deal/630313095</a> </div>, <div class=\"xe_content\">위메프  <span style=\"color: #005fbf;\">[포텐 터짐 우대 쇼핑몰, 제휴 링크]</span></div>, <div class=\"xe_content\">한성기업 명란 톡톡 떡갈비 핫바 70g X 10개</div>, <div class=\"xe_content\">12,810원</div>, <div class=\"xe_content\">무료</div>, <div class=\"document_6854675408_5839955408 xe_content\"><div class=\"pi__1938577590_3483273\" id=\"pi__1938577590_3483273\"><img alt=\"Screenshot_20240326_000319.jpg [위메프] 한성기업 명란 톡톡 떡갈비 핫바 70g X 10개 (12,810원) (무료)\" data-file-srl=\"6854675417\" height=\"1701\" src=\"//image.fmkorea.com/files/attach/new3/20240326/1196365581/5839955408/6854675408/99b983892094b5c6d2fc3736e15da7d1.jpg\" title=\"\" width=\"1080\"/><br class=\"pi__1938577590_3483273\" id=\"pi__1938577590_3483273\"/><br/></div><div>한성기업 명란 톡톡 떡갈비 핫바 70g X 10개 쿠폰 적용시 12,810원</div><div>간식으로 ㄱㅊ</div> <!-- serverLog: f84 --> <!-- __LAZY__ --></div>, <div class=\"comment_6854712766_5983013340 xe_content\">이건 첨보는데 맛있나.. ?</div>, <div class=\"comment_6854745778_18157166 xe_content\">저 나쁜놈들 크래미 3/10에 주문한 몬스터크랩 이제야 배송중 뜸</div>]\n",
      "오뚜기 오동통면 용기, 6개\n",
      "https://www.fmkorea.com/hotdeal/6854648784\n",
      "[]\n"
     ]
    },
    {
     "ename": "ValueError",
     "evalue": "not enough values to unpack (expected at least 6, got 0)",
     "output_type": "error",
     "traceback": [
      "\u001b[1;31m---------------------------------------------------------------------------\u001b[0m",
      "\u001b[1;31mValueError\u001b[0m                                Traceback (most recent call last)",
      "\u001b[1;32m~\\AppData\\Local\\Temp/ipykernel_20020/3075857512.py\u001b[0m in \u001b[0;36m<module>\u001b[1;34m\u001b[0m\n\u001b[0;32m     19\u001b[0m     \u001b[0mdetails\u001b[0m \u001b[1;33m=\u001b[0m \u001b[0mitem_details_html\u001b[0m\u001b[1;33m.\u001b[0m\u001b[0mfind_all\u001b[0m\u001b[1;33m(\u001b[0m\u001b[0mattrs\u001b[0m \u001b[1;33m=\u001b[0m \u001b[1;33m{\u001b[0m\u001b[1;34m'class'\u001b[0m\u001b[1;33m:\u001b[0m\u001b[1;34m'xe_content'\u001b[0m\u001b[1;33m}\u001b[0m\u001b[1;33m)\u001b[0m\u001b[1;33m\u001b[0m\u001b[1;33m\u001b[0m\u001b[0m\n\u001b[0;32m     20\u001b[0m     \u001b[0mprint\u001b[0m\u001b[1;33m(\u001b[0m\u001b[0mdetails\u001b[0m\u001b[1;33m)\u001b[0m\u001b[1;33m\u001b[0m\u001b[1;33m\u001b[0m\u001b[0m\n\u001b[1;32m---> 21\u001b[1;33m     \u001b[0mshopping_mall_link\u001b[0m\u001b[1;33m,\u001b[0m \u001b[0mshopping_mall_name\u001b[0m\u001b[1;33m,\u001b[0m \u001b[0m_\u001b[0m\u001b[1;33m,\u001b[0m \u001b[0mprice\u001b[0m\u001b[1;33m,\u001b[0m \u001b[0mdelivery\u001b[0m\u001b[1;33m,\u001b[0m \u001b[0mcontent\u001b[0m\u001b[1;33m,\u001b[0m \u001b[1;33m*\u001b[0m\u001b[0mcomments\u001b[0m \u001b[1;33m=\u001b[0m \u001b[0mdetails\u001b[0m\u001b[1;33m\u001b[0m\u001b[1;33m\u001b[0m\u001b[0m\n\u001b[0m\u001b[0;32m     22\u001b[0m     \u001b[0mitems_dict\u001b[0m\u001b[1;33m[\u001b[0m\u001b[1;34m\"shopping_mall_link\"\u001b[0m\u001b[1;33m]\u001b[0m\u001b[1;33m.\u001b[0m\u001b[0mappend\u001b[0m\u001b[1;33m(\u001b[0m\u001b[0mshopping_mall_link\u001b[0m\u001b[1;33m.\u001b[0m\u001b[0mtext\u001b[0m\u001b[1;33m.\u001b[0m\u001b[0mstrip\u001b[0m\u001b[1;33m(\u001b[0m\u001b[1;33m)\u001b[0m\u001b[1;33m)\u001b[0m\u001b[1;33m\u001b[0m\u001b[1;33m\u001b[0m\u001b[0m\n\u001b[0;32m     23\u001b[0m     \u001b[0mitems_dict\u001b[0m\u001b[1;33m[\u001b[0m\u001b[1;34m\"shopping_mall_name\"\u001b[0m\u001b[1;33m]\u001b[0m\u001b[1;33m.\u001b[0m\u001b[0mappend\u001b[0m\u001b[1;33m(\u001b[0m\u001b[0mshopping_mall_name\u001b[0m\u001b[1;33m.\u001b[0m\u001b[0mtext\u001b[0m\u001b[1;33m.\u001b[0m\u001b[0mstrip\u001b[0m\u001b[1;33m(\u001b[0m\u001b[1;33m)\u001b[0m\u001b[1;33m)\u001b[0m\u001b[1;33m\u001b[0m\u001b[1;33m\u001b[0m\u001b[0m\n",
      "\u001b[1;31mValueError\u001b[0m: not enough values to unpack (expected at least 6, got 0)"
     ]
    }
   ],
   "source": [
    "delay = 1 # sec\n",
    "session = requests.Session()\n",
    "headers = {\n",
    "    \"User-Agent\": \"Mozilla/5.0 (Macintosh; Intel Mac OS X 10_9_5) AppleWebKit 537.36 (KHTML, like Gecko) Chrome\",\n",
    "}\n",
    "response = session.get(FM_KOREA).text\n",
    "html = bs(response, \"html.parser\")\n",
    "items = html.select(\"h3.title a\")\n",
    "\n",
    "    "
   ]
  },
  {
   "cell_type": "code",
   "execution_count": null,
   "metadata": {},
   "outputs": [],
   "source": [
    "def crawling_fmkorea():\n",
    "    delay = 1 # sec\n",
    "    response = requests.get(FM_KOREA).text\n",
    "    html = bs(response, \"html.parser\")\n",
    "    items = html.select(\"div.li\")\n",
    "    print(items)\n",
    "    for i in items:\n",
    "        title = i.get_text()\n",
    "        print(title)"
   ]
  },
  {
   "cell_type": "code",
   "execution_count": null,
   "metadata": {},
   "outputs": [],
   "source": [
    "crawling_fmkorea()"
   ]
  }
 ],
 "metadata": {
  "kernelspec": {
   "display_name": "Python 3",
   "language": "python",
   "name": "python3"
  },
  "language_info": {
   "codemirror_mode": {
    "name": "ipython",
    "version": 3
   },
   "file_extension": ".py",
   "mimetype": "text/x-python",
   "name": "python",
   "nbconvert_exporter": "python",
   "pygments_lexer": "ipython3",
   "version": "3.11.0"
  }
 },
 "nbformat": 4,
 "nbformat_minor": 2
}
