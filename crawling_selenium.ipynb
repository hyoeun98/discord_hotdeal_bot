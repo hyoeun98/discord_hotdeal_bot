{
 "cells": [
  {
   "cell_type": "code",
   "execution_count": 71,
   "metadata": {},
   "outputs": [],
   "source": [
    "from selenium import webdriver\n",
    "from webdriver_manager.chrome import ChromeDriverManager\n",
    "from selenium.webdriver import Keys, ActionChains\n",
    "from selenium.webdriver.common.by import By\n",
    "from selenium.webdriver.chrome.service import Service\n",
    "from bs4 import BeautifulSoup as bs\n",
    "import requests\n",
    "import re\n",
    "import random\n",
    "import time\n",
    "\n",
    "FM_KOREA = \"https://www.fmkorea.com/hotdeal\"\n",
    "ARCA_LIVE = \"https://arca.live/b/hotdeal\"\n",
    "QUASAR_ZONE = \"https://quasarzone.com/bbs/qb_saleinfo\"\n",
    "RULI_WEB = \"https://bbs.ruliweb.com/market/board/1020\"\n",
    "PPOM_PPU = \"https://www.ppomppu.co.kr/zboard/zboard.php?id=ppomppu\"\n",
    "\n",
    "MAX_SLEEP_TIME = 5"
   ]
  },
  {
   "cell_type": "code",
   "execution_count": 136,
   "metadata": {},
   "outputs": [],
   "source": [
    "service = Service(executable_path=ChromeDriverManager().install())\n",
    "driver = webdriver.Chrome(service=service)\n",
    "driver.implicitly_wait(10)\n",
    "driver.get(FM_KOREA)"
   ]
  },
  {
   "cell_type": "code",
   "execution_count": 145,
   "metadata": {},
   "outputs": [],
   "source": [
    "items_dict = {\"shopping_mall_link\" : [], \"shopping_mall_name\" : [], \"item_name\" : [], \"price\" : [], \"delivery\" : [], \"content\" : []}\n",
    "#bd_1196365581_0 > div > div.fm_best_widget._bd_pc > ul > li:nth-child(1) > div > h3 > a"
   ]
  },
  {
   "cell_type": "code",
   "execution_count": 179,
   "metadata": {},
   "outputs": [],
   "source": [
    "item_names = []\n",
    "item_links = []\n"
   ]
  },
  {
   "cell_type": "code",
   "execution_count": 181,
   "metadata": {},
   "outputs": [],
   "source": [
    "def item_name_normalize(item_name):\n",
    "    normalized_name = re.sub(\"\\[\\d+\\]\", \"\", item_name).strip()\n",
    "    return normalized_name"
   ]
  },
  {
   "cell_type": "code",
   "execution_count": 180,
   "metadata": {},
   "outputs": [
    {
     "name": "stdout",
     "output_type": "stream",
     "text": [
      "투썸 스틱커피 다크10T+마일드10T (유통기한 07/08)\n",
      "동원참치 90g x 16캔 삼성카드\n",
      "태국 남독마이 망고 대과 12~14과\n",
      "새청무쌀 10kg 23년햅쌀 상등급 당일도정 10kg\n",
      "티젠 콤부차 20스틱+체험팩증정 외\n",
      "진주햄 천하장사 오리지널 1500g(15gx100개),1개당 130원꼴! 외\n",
      "무항생제 폴란드 로위키 블루 3.2% 멸균우유 1000ml 12개\n",
      "슈퍼대디 물티슈 70고평량 미스터펭 민트 캡형 70매 20팩 외 13종 택1\n",
      "닭볶음탕용 냉장 절단육 1kg x 2마리\n",
      "2023년산 당일도정 신동진 상등급 10kg\n",
      "카누 다크 미니 총 120T\n",
      "국내산 대추방울토마토 2kg\n",
      "맥심 모카골드 커피믹스 230T 2개\n",
      "켈로그 콘푸로스트600g(1인/1구매) / 선착순 한정수량\n",
      "구운계란 중란 60구 + 핑크솔트\n",
      "하림 닭가슴살 블랙페퍼 100g 10봉\n",
      "태국 골드망고 A등급 5kg\n",
      "메가MGC커피 그린애플 요거트 스무디\n",
      "움직이는 아바타, 액자, 움직이는 스티커\n",
      "백산수 2L 18개\n"
     ]
    }
   ],
   "source": [
    "for i in range(1, 21):\n",
    "    items = driver.find_element(By.CSS_SELECTOR, f\"#bd_1196365581_0 > div > div.fm_best_widget._bd_pc > ul > li:nth-child({i}) > div > h3 > a\")\n",
    "    normalized_item_name = item_name_normalize(items.text)\n",
    "    item_names.append(normalized_item_name)\n",
    "    item_links.append(items.get_attribute(\"href\"))"
   ]
  },
  {
   "cell_type": "code",
   "execution_count": 183,
   "metadata": {},
   "outputs": [
    {
     "data": {
      "text/plain": [
       "['https://www.fmkorea.com/6858230895',\n",
       " 'https://www.fmkorea.com/6858218194',\n",
       " 'https://www.fmkorea.com/6858187871',\n",
       " 'https://www.fmkorea.com/6858138577',\n",
       " 'https://www.fmkorea.com/6858128883',\n",
       " 'https://www.fmkorea.com/6858116114',\n",
       " 'https://www.fmkorea.com/6858114457',\n",
       " 'https://www.fmkorea.com/6858091879',\n",
       " 'https://www.fmkorea.com/6858068413',\n",
       " 'https://www.fmkorea.com/6858039848',\n",
       " 'https://www.fmkorea.com/6858024727',\n",
       " 'https://www.fmkorea.com/6858029634',\n",
       " 'https://www.fmkorea.com/6858015442',\n",
       " 'https://www.fmkorea.com/6858015066',\n",
       " 'https://www.fmkorea.com/6858009969',\n",
       " 'https://www.fmkorea.com/6857997988',\n",
       " 'https://www.fmkorea.com/6857993185',\n",
       " 'https://www.fmkorea.com/6857769244',\n",
       " 'https://www.fmkorea.com/6857713995',\n",
       " 'https://www.fmkorea.com/6857515661']"
      ]
     },
     "execution_count": 183,
     "metadata": {},
     "output_type": "execute_result"
    }
   ],
   "source": [
    "item_links"
   ]
  },
  {
   "cell_type": "code",
   "execution_count": 132,
   "metadata": {},
   "outputs": [
    {
     "name": "stdout",
     "output_type": "stream",
     "text": [
      "https://www.fmkorea.com/6858230895\n"
     ]
    }
   ],
   "source": [
    "for i in item_links:\n",
    "    print(i)\n",
    "    "
   ]
  },
  {
   "cell_type": "code",
   "execution_count": 21,
   "metadata": {},
   "outputs": [
    {
     "name": "stdout",
     "output_type": "stream",
     "text": [
      "[]\n"
     ]
    }
   ],
   "source": [
    "print(item_details)"
   ]
  },
  {
   "cell_type": "code",
   "execution_count": 203,
   "metadata": {},
   "outputs": [
    {
     "name": "stdout",
     "output_type": "stream",
     "text": [
      "푸마 트레이닝 저지 반팔티 외 다양\n",
      "https://www.fmkorea.com/hotdeal/6854720832\n",
      "[<div class=\"xe_content\"> <a class=\"hotdeal_url\" data-document_srl=\"6854720832\" href=\"https://mw.wemakeprice.com/deal/630127824\" target=\"_blank\">https://mw.wemakeprice.com/deal/630127824</a> </div>, <div class=\"xe_content\">위메프  <span style=\"color: #005fbf;\">[포텐 터짐 우대 쇼핑몰, 제휴 링크]</span></div>, <div class=\"xe_content\">푸마 트레이닝 저지 반팔티 외 다양</div>, <div class=\"xe_content\">7,500원~</div>, <div class=\"xe_content\">무료</div>, <div class=\"document_6854720832_6641729506 xe_content\"><img alt=\"1711379870249.jpg [위메프] 푸마 트레이닝 저지 반팔티 외 다양 (7,500원~) (무료)\" data-file-srl=\"6854720837\" height=\"1445\" src=\"//image.fmkorea.com/files/attach/new3/20240326/1196365581/6641729506/6854720832/0e2f81075e1e2601c5ec99be1c6046ee.jpg\" title=\"\" width=\"756\"/><br class=\"pi__1938577590_3483273\" id=\"pi__1938577590_3483273\"/><img alt=\"1711379870208.jpg [위메프] 푸마 트레이닝 저지 반팔티 외 다양 (7,500원~) (무료)\" data-file-srl=\"6854721003\" height=\"1445\" src=\"//image.fmkorea.com/files/attach/new3/20240326/1196365581/6641729506/6854720832/89ec3637bae0a26d4e6d5bc613a2f82c.jpg\" title=\"\" width=\"756\"/><br/><img alt=\"1711379870298.jpg [위메프] 푸마 트레이닝 저지 반팔티 외 다양 (7,500원~) (무료)\" data-file-srl=\"6854721223\" height=\"1445\" src=\"//image.fmkorea.com/files/attach/new3/20240326/1196365581/6641729506/6854720832/ea6177528e3879b428ffbeafa51d908e.jpg\" title=\"\" width=\"756\"/><br/><img alt=\"1711379870165.jpg [위메프] 푸마 트레이닝 저지 반팔티 외 다양 (7,500원~) (무료)\" data-file-srl=\"6854721370\" data-original=\"//image.fmkorea.com/files/attach/new3/20240326/1196365581/6641729506/6854720832/50a8b6f102427dcc80a62553c9af36af.jpg\" height=\"1445\" src=\"//image.fmkorea.com/classes/lazy/img/transparent.gif\" title=\"\" width=\"756\"/><br/>푸마 트레이닝 저지 반팔티 쿠폰 적용시 7,500원 무배임<div class=\"pi__1938577590_3483273\" id=\"pi__1938577590_3483273\">반팔티,바지,자켓 가격 괜찮은거 많음</div> <!-- serverLog: f23 --> <!-- __LAZY__CHECKED__ --></div>, <div class=\"comment_6854742714_3662759124 xe_content\">바람막이 재질같은 츄리닝 바지는 없네 ㅠㅠ</div>, <div class=\"comment_6854742956_6290442617 xe_content\">저세상 사이즈 인게 몇개 있네<br/>116,128,140,152,164,176 이건 어케 맞춰 입어야 하는거지</div>, <div class=\"comment_6854743365_4279929924 xe_content\">대박 저 흰색상의 오늘 보풀 땔려고 가위질 하다가 구멍났는데 <br/>나왔네</div>]\n",
      "무항생제 한돈 목살 구이용 500g 2팩 농협\n",
      "https://www.fmkorea.com/hotdeal/6854702655\n",
      "[<div class=\"xe_content\"> <a class=\"hotdeal_url\" data-document_srl=\"6854702655\" href=\"https://mobile.tmon.co.kr/deals/22636653622\" target=\"_blank\">https://mobile.tmon.co.kr/deals/22636653622</a> </div>, <div class=\"xe_content\">티몬 </div>, <div class=\"xe_content\">무항생제 한돈 목살 구이용 500g 2팩 농협</div>, <div class=\"xe_content\">14,460원</div>, <div class=\"xe_content\">무료</div>, <div class=\"document_6854702655_6645304712 xe_content\"><img alt=\"Screenshot_20240326_001127.jpg [티몬] 무항생제 한돈 목살 구이용 500g 2팩 농협 (14,460원) (무료)\" data-file-srl=\"6854702669\" height=\"2050\" src=\"//image.fmkorea.com/files/attach/new3/20240326/1196365581/6645304712/6854702655/99b983892094b5c6d2fc3736e15da7d1.jpg\" title=\"\" width=\"1080\"/><br class=\"pi__1938577590_3483273\" id=\"pi__1938577590_3483273\"/><br/><div class=\"pi__1938577590_3483273\" id=\"pi__1938577590_3483273\">한돈 목살 1kg 농협카드결제시 14,460원 나옴</div><div>100g당 1,446원</div><div>무배고 목살이라 실패확률 적음</div><div>농협카드없어도 가격 ㄱㅊ</div> <!-- serverLog: f83 --> <!-- __LAZY__ --></div>, <div class=\"comment_6854706058_3540579247 xe_content\">한돈 오</div>, <div class=\"comment_6854709980_589021026 xe_content\">왜 요새 농협카드가 자주보이냐 ㅋㅋㅋ</div>]\n",
      "산과들에 10+10봉 초콜릿 건빵 초코건 총 20봉 / 에너지바 초코바 하루견과 간식\n",
      "https://www.fmkorea.com/hotdeal/6854686792\n",
      "[<div class=\"xe_content\"> <a class=\"hotdeal_url\" data-document_srl=\"6854686792\" href=\"https://www.tmon.co.kr/deal/17198388534\" target=\"_blank\">https://www.tmon.co.kr/deal/17198388534</a> </div>, <div class=\"xe_content\">티몬 </div>, <div class=\"xe_content\">산과들에 10+10봉 초콜릿 건빵 초코건 총 20봉 / 에너지바 초코바 하루견과 간식</div>, <div class=\"xe_content\">8,990원</div>, <div class=\"xe_content\">무료</div>, <div class=\"document_6854686792_4451250313 xe_content\"><img alt=\"Screenshot_20240326_000613.jpg [티몬] 산과들에 10+10봉 초콜릿 건빵 초코건 총 20봉 / 에너지바 초코바 하루견과 간식 (8,990원) (무료)\" data-file-srl=\"6854686797\" height=\"1687\" src=\"//image.fmkorea.com/files/attach/new3/20240326/1196365581/4451250313/6854686792/65f228b52b4c2eba59293c6f8ce88179.jpg\" title=\"\" width=\"904\"/><br class=\"pi__1938577590_3483273\" id=\"pi__1938577590_3483273\"/><br/> <!-- serverLog: f82 --> <!-- __LAZY__ --></div>, <div class=\"comment_6854704295_44483348 xe_content\">가격이 어떤진 모르겠지만 회사 탕비실에서 있길래 집었는데 진짜 맛있게먹음</div>, <div class=\"comment_6854713334_4451250313 xe_content\"><a class=\"findParent\" href=\"javascript:;\" onclick=\"return findComment(6854704295);\">요오시</a> 20봉 8900~9000원 핫딜 가격 입니다!</div>, <div class=\"comment_6854731024_44483348 xe_content\"><a class=\"findParent\" href=\"javascript:;\" onclick=\"return findComment(6854713334);\">행복</a> 먼저 사고 댓글달았습니다 ㅊㅊ ㅋㅋ</div>, <div class=\"comment_6854710711_3862364934 xe_content\">인간사료</div>, <div class=\"comment_6854714268_4451250313 xe_content\"><a class=\"findParent\" href=\"javascript:;\" onclick=\"return findComment(6854710711);\">Alanpato</a> 사료이긴 한데 넘 적어요 😭</div>, <div class=\"comment_6854720538_738479918 xe_content\">진짜 맛있긴 하더아</div>, <div class=\"comment_6854731743_6290442617 xe_content\">꾸준하게 올라오네</div>]\n",
      "도브 바디워시 1L 3개 외 다양 카카오페이결제\n",
      "https://www.fmkorea.com/hotdeal/6854684142\n",
      "[<div class=\"xe_content\"> <a class=\"hotdeal_url\" data-document_srl=\"6854684142\" href=\"https://ohou.se/productions/2415718/selling\" target=\"_blank\">https://ohou.se/productions/2415718/selling</a> </div>, <div class=\"xe_content\">오늘의집 </div>, <div class=\"xe_content\">도브 바디워시 1L 3개 외 다양 카카오페이결제</div>, <div class=\"xe_content\">10,485원</div>, <div class=\"xe_content\">무료</div>, <div class=\"document_6854684142_365431608 xe_content\"><div class=\"pi__1938577590_3483273\" id=\"pi__1938577590_3483273\"><img alt=\"1711379166075.jpg [오늘의집] 도브 바디워시 1L 3개 외 다양 카카오페이결제 (10,485원) (무료)\" data-file-srl=\"6854684147\" height=\"1490\" src=\"//image.fmkorea.com/files/attach/new3/20240326/1196365581/365431608/6854684142/92aaa2d56692fc4b160eb2b7d3f0285d.jpg\" title=\"\" width=\"756\"/><br class=\"pi__1938577590_3483273\" id=\"pi__1938577590_3483273\"/><img alt=\"1711379166016.jpg [오늘의집] 도브 바디워시 1L 3개 외 다양 카카오페이결제 (10,485원) (무료)\" data-file-srl=\"6854684373\" height=\"1063\" src=\"//image.fmkorea.com/files/attach/new3/20240326/1196365581/365431608/6854684142/3d6e0ecf085b5baf7921ebcb85dc00e0.jpg\" title=\"\" width=\"1080\"/><br/><br/></div><div>도브 바디워시 1L 3개 쿠폰이랑 장바구니쿠폰 받고 카카오페이로 결제하면 10,485원</div><div>개당 3,495원 가격 ㄱㅊ</div><div>사은품 도브 핸드워시있음</div><div><br/></div><div>스너글 섬유유연제도 가격 괜찮음</div><div><br/></div> <!-- serverLog: f22 --> <!-- __LAZY__ --></div>, <div class=\"comment_6854689644_4750961952 xe_content\">향 지속력 좋은 바디워시 추천해주세용,,,,</div>, <div class=\"comment_6854692793_5488033599 xe_content\">쿠폰 어서 받나요</div>, <div class=\"comment_6854697436_3211763939 xe_content\"><a class=\"findParent\" href=\"javascript:;\" onclick=\"return findComment(6854692793);\">Extra0_0</a> 스크롤 내려서 상품 자세히 보기 누르면 빨간색 쿠폰 받기</div>, <div class=\"comment_6854705682_5075894021 xe_content\">5개중에 추천해주실만한 향 있나용</div>, <div class=\"comment_6854716043_692119005 xe_content\">더내렸네...아</div>]\n",
      "깨끗한나라 순수 프리미엄 광폭 27m 30롤 2팩 + 미용티슈 70매 + 메가커피 아이스아메리카노\n",
      "https://www.fmkorea.com/hotdeal/6854678953\n",
      "[<div class=\"xe_content\"> <a class=\"hotdeal_url\" data-document_srl=\"6854678953\" href=\"http://item.gmarket.co.kr/Item?goodscode=2815362999\" target=\"_blank\">http://item.gmarket.co.kr/Item?goodscode=2815362999</a> </div>, <div class=\"xe_content\">지마켓  <span style=\"color: #005fbf;\">[포텐 터짐 우대 쇼핑몰, 제휴 링크]</span></div>, <div class=\"xe_content\">깨끗한나라 순수 프리미엄 광폭 27m 30롤 2팩 + 미용티슈 70매 + 메가커피 아이스아메리카노</div>, <div class=\"xe_content\">29,840원</div>, <div class=\"xe_content\">무료</div>, <div class=\"document_6854678953_5902788663 xe_content\"><img alt=\"[지마켓] 깨끗한나라 순수 프리미엄 광폭 27m 30롤 2팩 + 미용티슈 70매 + 메가커피 아이스아메리카노 (29,840원) (무료)\" class=\"auto_insert\" height=\"1070\" src=\"//image.fmkorea.com/files/attach/new3/20240326/1196365581/5902788663/6854678953/115a9430890ce6e535be9ad6b044b815.jpeg\" style=\"margin-bottom:2px;\" title=\"\" width=\"828\"/>\n",
      "<img alt=\"[지마켓] 깨끗한나라 순수 프리미엄 광폭 27m 30롤 2팩 + 미용티슈 70매 + 메가커피 아이스아메리카노 (29,840원) (무료)\" class=\"auto_insert\" height=\"759\" src=\"//image.fmkorea.com/files/attach/new3/20240326/1196365581/5902788663/6854678953/a7f14049a4b327e4a3fea269ab568b6a.jpeg\" style=\"margin-bottom:2px;\" title=\"\" width=\"828\"/>\n",
      "<img alt=\"[지마켓] 깨끗한나라 순수 프리미엄 광폭 27m 30롤 2팩 + 미용티슈 70매 + 메가커피 아이스아메리카노 (29,840원) (무료)\" class=\"auto_insert\" height=\"1117\" src=\"//image.fmkorea.com/files/attach/new3/20240326/1196365581/5902788663/6854678953/1d142f3280e8cb29d9839f4d96fbe321.jpeg\" style=\"margin-bottom:2px;\" title=\"\" width=\"828\"/>\n",
      "<p class=\"pi__1938577590_3483273\" id=\"pi__1938577590_3483273\">깨끗한나라 천연펄프 3겹 무향 광폭(107mm) 화장지 27미터 30롤 2팩 + 사은품 2개  29,840 원이면 가격 ㄱㅊ한듯 메가커피 아이스 아메리카노 기프티콘은 문자로 옴,<br class=\"pi__1938577590_3483273\" id=\"pi__1938577590_3483273\"/></p> <!-- serverLog: f22 --> <!-- __LAZY__ --></div>]\n",
      "한성기업 명란 톡톡 떡갈비 핫바 70g X 10개\n",
      "https://www.fmkorea.com/hotdeal/6854675408\n",
      "[<div class=\"xe_content\"> <a class=\"hotdeal_url\" data-document_srl=\"6854675408\" href=\"https://mw.wemakeprice.com/deal/630313095\" target=\"_blank\">https://mw.wemakeprice.com/deal/630313095</a> </div>, <div class=\"xe_content\">위메프  <span style=\"color: #005fbf;\">[포텐 터짐 우대 쇼핑몰, 제휴 링크]</span></div>, <div class=\"xe_content\">한성기업 명란 톡톡 떡갈비 핫바 70g X 10개</div>, <div class=\"xe_content\">12,810원</div>, <div class=\"xe_content\">무료</div>, <div class=\"document_6854675408_5839955408 xe_content\"><div class=\"pi__1938577590_3483273\" id=\"pi__1938577590_3483273\"><img alt=\"Screenshot_20240326_000319.jpg [위메프] 한성기업 명란 톡톡 떡갈비 핫바 70g X 10개 (12,810원) (무료)\" data-file-srl=\"6854675417\" height=\"1701\" src=\"//image.fmkorea.com/files/attach/new3/20240326/1196365581/5839955408/6854675408/99b983892094b5c6d2fc3736e15da7d1.jpg\" title=\"\" width=\"1080\"/><br class=\"pi__1938577590_3483273\" id=\"pi__1938577590_3483273\"/><br/></div><div>한성기업 명란 톡톡 떡갈비 핫바 70g X 10개 쿠폰 적용시 12,810원</div><div>간식으로 ㄱㅊ</div> <!-- serverLog: f84 --> <!-- __LAZY__ --></div>, <div class=\"comment_6854712766_5983013340 xe_content\">이건 첨보는데 맛있나.. ?</div>, <div class=\"comment_6854745778_18157166 xe_content\">저 나쁜놈들 크래미 3/10에 주문한 몬스터크랩 이제야 배송중 뜸</div>]\n",
      "오뚜기 오동통면 용기, 6개\n",
      "https://www.fmkorea.com/hotdeal/6854648784\n",
      "[]\n"
     ]
    },
    {
     "ename": "ValueError",
     "evalue": "not enough values to unpack (expected at least 6, got 0)",
     "output_type": "error",
     "traceback": [
      "\u001b[1;31m---------------------------------------------------------------------------\u001b[0m",
      "\u001b[1;31mValueError\u001b[0m                                Traceback (most recent call last)",
      "\u001b[1;32m~\\AppData\\Local\\Temp/ipykernel_20020/3075857512.py\u001b[0m in \u001b[0;36m<module>\u001b[1;34m\u001b[0m\n\u001b[0;32m     19\u001b[0m     \u001b[0mdetails\u001b[0m \u001b[1;33m=\u001b[0m \u001b[0mitem_details_html\u001b[0m\u001b[1;33m.\u001b[0m\u001b[0mfind_all\u001b[0m\u001b[1;33m(\u001b[0m\u001b[0mattrs\u001b[0m \u001b[1;33m=\u001b[0m \u001b[1;33m{\u001b[0m\u001b[1;34m'class'\u001b[0m\u001b[1;33m:\u001b[0m\u001b[1;34m'xe_content'\u001b[0m\u001b[1;33m}\u001b[0m\u001b[1;33m)\u001b[0m\u001b[1;33m\u001b[0m\u001b[1;33m\u001b[0m\u001b[0m\n\u001b[0;32m     20\u001b[0m     \u001b[0mprint\u001b[0m\u001b[1;33m(\u001b[0m\u001b[0mdetails\u001b[0m\u001b[1;33m)\u001b[0m\u001b[1;33m\u001b[0m\u001b[1;33m\u001b[0m\u001b[0m\n\u001b[1;32m---> 21\u001b[1;33m     \u001b[0mshopping_mall_link\u001b[0m\u001b[1;33m,\u001b[0m \u001b[0mshopping_mall_name\u001b[0m\u001b[1;33m,\u001b[0m \u001b[0m_\u001b[0m\u001b[1;33m,\u001b[0m \u001b[0mprice\u001b[0m\u001b[1;33m,\u001b[0m \u001b[0mdelivery\u001b[0m\u001b[1;33m,\u001b[0m \u001b[0mcontent\u001b[0m\u001b[1;33m,\u001b[0m \u001b[1;33m*\u001b[0m\u001b[0mcomments\u001b[0m \u001b[1;33m=\u001b[0m \u001b[0mdetails\u001b[0m\u001b[1;33m\u001b[0m\u001b[1;33m\u001b[0m\u001b[0m\n\u001b[0m\u001b[0;32m     22\u001b[0m     \u001b[0mitems_dict\u001b[0m\u001b[1;33m[\u001b[0m\u001b[1;34m\"shopping_mall_link\"\u001b[0m\u001b[1;33m]\u001b[0m\u001b[1;33m.\u001b[0m\u001b[0mappend\u001b[0m\u001b[1;33m(\u001b[0m\u001b[0mshopping_mall_link\u001b[0m\u001b[1;33m.\u001b[0m\u001b[0mtext\u001b[0m\u001b[1;33m.\u001b[0m\u001b[0mstrip\u001b[0m\u001b[1;33m(\u001b[0m\u001b[1;33m)\u001b[0m\u001b[1;33m)\u001b[0m\u001b[1;33m\u001b[0m\u001b[1;33m\u001b[0m\u001b[0m\n\u001b[0;32m     23\u001b[0m     \u001b[0mitems_dict\u001b[0m\u001b[1;33m[\u001b[0m\u001b[1;34m\"shopping_mall_name\"\u001b[0m\u001b[1;33m]\u001b[0m\u001b[1;33m.\u001b[0m\u001b[0mappend\u001b[0m\u001b[1;33m(\u001b[0m\u001b[0mshopping_mall_name\u001b[0m\u001b[1;33m.\u001b[0m\u001b[0mtext\u001b[0m\u001b[1;33m.\u001b[0m\u001b[0mstrip\u001b[0m\u001b[1;33m(\u001b[0m\u001b[1;33m)\u001b[0m\u001b[1;33m)\u001b[0m\u001b[1;33m\u001b[0m\u001b[1;33m\u001b[0m\u001b[0m\n",
      "\u001b[1;31mValueError\u001b[0m: not enough values to unpack (expected at least 6, got 0)"
     ]
    }
   ],
   "source": [
    "delay = 1 # sec\n",
    "session = requests.Session()\n",
    "headers = {\n",
    "    \"User-Agent\": \"Mozilla/5.0 (Macintosh; Intel Mac OS X 10_9_5) AppleWebKit 537.36 (KHTML, like Gecko) Chrome\",\n",
    "}\n",
    "response = session.get(FM_KOREA).text\n",
    "html = bs(response, \"html.parser\")\n",
    "items = html.select(\"h3.title a\")\n",
    "\n",
    "    "
   ]
  },
  {
   "cell_type": "code",
   "execution_count": null,
   "metadata": {},
   "outputs": [],
   "source": [
    "def crawling_fmkorea():\n",
    "    delay = 1 # sec\n",
    "    response = requests.get(FM_KOREA).text\n",
    "    html = bs(response, \"html.parser\")\n",
    "    items = html.select(\"div.li\")\n",
    "    print(items)\n",
    "    for i in items:\n",
    "        title = i.get_text()\n",
    "        print(title)"
   ]
  },
  {
   "cell_type": "code",
   "execution_count": null,
   "metadata": {},
   "outputs": [],
   "source": [
    "crawling_fmkorea()"
   ]
  }
 ],
 "metadata": {
  "kernelspec": {
   "display_name": "Python 3",
   "language": "python",
   "name": "python3"
  },
  "language_info": {
   "codemirror_mode": {
    "name": "ipython",
    "version": 3
   },
   "file_extension": ".py",
   "mimetype": "text/x-python",
   "name": "python",
   "nbconvert_exporter": "python",
   "pygments_lexer": "ipython3",
   "version": "3.9.6"
  }
 },
 "nbformat": 4,
 "nbformat_minor": 2
}
